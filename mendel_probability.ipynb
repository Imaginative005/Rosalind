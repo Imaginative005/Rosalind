{
 "cells": [
  {
   "cell_type": "code",
   "execution_count": 11,
   "id": "424a038e",
   "metadata": {},
   "outputs": [
    {
     "name": "stdout",
     "output_type": "stream",
     "text": [
      "3 5 6\n",
      "0.642857142857143\n"
     ]
    }
   ],
   "source": [
    "\n",
    "'''\n",
    "Mendel's First Law solved by 18426\n",
    "\n",
    "Dec. 4, 2012, 2:02 a.m. by Rosalind Team\n",
    "\n",
    "Topics: Heredity, Probability\n",
    "\n",
    "    ←\n",
    "    →\n",
    "\n",
    "    Introduction to Mendelian Inheritanceclick to expand\n",
    "\n",
    "Problem Figure 2. The probability of any outcome (leaf) in a probability tree diagram is given by the product of\n",
    "probabilities from the start of the tree to the outcome. For example, the probability that X is blue and Y is blue is\n",
    "equal to (2/5)(1/4), or 1/10.\n",
    "\n",
    "Probability is the mathematical study of randomly occurring phenomena. We will model such a phenomenon with a random\n",
    "variable, which is simply a variable that can take a number of different distinct outcomes depending on the result of\n",
    "an underlying random process.\n",
    "\n",
    "For example, say that we have a bag containing 3 red balls and 2 blue balls. If we let X represent the random\n",
    "variable corresponding to the color of a drawn ball, then the probability of each of the two outcomes is given by Pr(\n",
    "X=red)=35 and Pr(X=blue)=25\n",
    "\n",
    ".\n",
    "\n",
    "Random variables can be combined to yield new random variables. Returning to the ball example, let Y model the color\n",
    "of a second ball drawn from the bag (without replacing the first ball). The probability of Y being red depends on\n",
    "whether the first ball was red or blue. To represent all outcomes of X and Y, we therefore use a probability tree\n",
    "diagram. This branching diagram represents all possible individual probabilities for X and Y\n",
    "\n",
    ", with outcomes at the endpoints (\"leaves\") of the tree. The probability of any outcome is given by the product of\n",
    "probabilities along the path from the beginning of the tree; see Figure 2 for an illustrative example.\n",
    "\n",
    "An event is simply a collection of outcomes. Because outcomes are distinct, the probability of an event can be\n",
    "written as the sum of the probabilities of its constituent outcomes. For our colored ball example, let A be the event\n",
    "\"Y is blue.\" Pr(A) is equal to the sum of the probabilities of two different outcomes: Pr(X=blue and Y=blue)+Pr(X=red\n",
    "and Y=blue), or 310+110=25\n",
    "\n",
    "(see Figure 2 above).\n",
    "\n",
    "Given: Three positive integers k , m, and n, representing a population containing k+m+n organisms: k individuals are\n",
    "homozygous dominant for a factor, m are heterozygous, and n\n",
    "\n",
    "are homozygous recessive.\n",
    "\n",
    "Return: The probability that two randomly selected mating organisms will produce an individual possessing a dominant\n",
    "allele (and thus displaying the dominant phenotype). Assume that any two organisms can mate. Sample Dataset\n",
    "\n",
    "2 2 2\n",
    "\n",
    "Sample Output\n",
    "\n",
    "0.78333\n",
    "\n",
    "'''\n",
    "\n",
    "\n",
    "k, m, n = map(int, input().split())\n",
    "\n",
    "total = k + m + n\n",
    "\n",
    "# Probability of selecting homozygous dominant individual\n",
    "p_k = k/total\n",
    "\n",
    "# Probability of selecting heterozygous individual\n",
    "p_m = m/total\n",
    "\n",
    "# Probability of selecting homozygous recessive individual\n",
    "p_n = n/total\n",
    "\n",
    "# Probabilities of producing offspring with dominant allele from different combinations of parents\n",
    "p_kk = p_k * ((k-1)/(total-1))\n",
    "p_km = p_k * (m/(total-1)) + p_m * (k/(total-1))\n",
    "p_kn = p_k * (n/(total-1)) + p_n * (k/(total-1))\n",
    "p_mm = p_m * ((m-1)/(total-1)) * 0.75\n",
    "p_mn = p_m * (n/(total-1)) * 0.5 + p_n * (m/(total-1)) * 0.5\n",
    "p_nn = p_n * ((n-1)/(total-1)) * 0\n",
    "\n",
    "# Probability of producing offspring with dominant allele\n",
    "p_dom = p_kk + p_km + p_kn + p_mm + p_mn\n",
    "\n",
    "print(p_dom)\n"
   ]
  },
  {
   "cell_type": "code",
   "execution_count": null,
   "id": "d1bf4878",
   "metadata": {},
   "outputs": [],
   "source": []
  },
  {
   "cell_type": "code",
   "execution_count": 4,
   "id": "5d26a558",
   "metadata": {},
   "outputs": [
    {
     "ename": "SyntaxError",
     "evalue": "invalid syntax (277486275.py, line 1)",
     "output_type": "error",
     "traceback": [
      "\u001b[1;36m  Cell \u001b[1;32mIn[4], line 1\u001b[1;36m\u001b[0m\n\u001b[1;33m    24 22 25\u001b[0m\n\u001b[1;37m       ^\u001b[0m\n\u001b[1;31mSyntaxError\u001b[0m\u001b[1;31m:\u001b[0m invalid syntax\n"
     ]
    }
   ],
   "source": [
    "24 22 25\n"
   ]
  },
  {
   "cell_type": "code",
   "execution_count": null,
   "id": "4d553b13",
   "metadata": {},
   "outputs": [],
   "source": []
  }
 ],
 "metadata": {
  "kernelspec": {
   "display_name": "Python 3 (ipykernel)",
   "language": "python",
   "name": "python3"
  },
  "language_info": {
   "codemirror_mode": {
    "name": "ipython",
    "version": 3
   },
   "file_extension": ".py",
   "mimetype": "text/x-python",
   "name": "python",
   "nbconvert_exporter": "python",
   "pygments_lexer": "ipython3",
   "version": "3.9.16"
  }
 },
 "nbformat": 4,
 "nbformat_minor": 5
}
